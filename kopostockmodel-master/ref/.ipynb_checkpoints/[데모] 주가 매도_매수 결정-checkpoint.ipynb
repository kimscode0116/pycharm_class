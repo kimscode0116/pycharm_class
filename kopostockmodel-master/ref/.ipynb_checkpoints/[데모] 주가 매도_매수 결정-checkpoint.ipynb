{
 "cells": [
  {
   "cell_type": "markdown",
   "metadata": {},
   "source": [
    "### 주식 매도/매수 결정"
   ]
  },
  {
   "cell_type": "code",
   "execution_count": 1,
   "metadata": {},
   "outputs": [
    {
     "data": {
      "text/html": [
       "<div>\n",
       "<style scoped>\n",
       "    .dataframe tbody tr th:only-of-type {\n",
       "        vertical-align: middle;\n",
       "    }\n",
       "\n",
       "    .dataframe tbody tr th {\n",
       "        vertical-align: top;\n",
       "    }\n",
       "\n",
       "    .dataframe thead th {\n",
       "        text-align: right;\n",
       "    }\n",
       "</style>\n",
       "<table border=\"1\" class=\"dataframe\">\n",
       "  <thead>\n",
       "    <tr style=\"text-align: right;\">\n",
       "      <th></th>\n",
       "      <th>회사명</th>\n",
       "      <th>종목코드</th>\n",
       "      <th>업종</th>\n",
       "      <th>주요제품</th>\n",
       "      <th>상장일</th>\n",
       "      <th>결산월</th>\n",
       "      <th>대표자명</th>\n",
       "      <th>홈페이지</th>\n",
       "      <th>지역</th>\n",
       "    </tr>\n",
       "  </thead>\n",
       "  <tbody>\n",
       "    <tr>\n",
       "      <th>0</th>\n",
       "      <td>GS글로벌</td>\n",
       "      <td>001250</td>\n",
       "      <td>상품 종합 도매업</td>\n",
       "      <td>수출입업(시멘트,철강금속,전기전자,섬유,기계화학),상품중개,광업,채석업/하수처리 서...</td>\n",
       "      <td>1976-06-26</td>\n",
       "      <td>12월</td>\n",
       "      <td>김태형</td>\n",
       "      <td>http://www.gsgcorp.com</td>\n",
       "      <td>서울특별시</td>\n",
       "    </tr>\n",
       "    <tr>\n",
       "      <th>1</th>\n",
       "      <td>HSD엔진</td>\n",
       "      <td>082740</td>\n",
       "      <td>일반 목적용 기계 제조업</td>\n",
       "      <td>대형선박용엔진,내연발전엔진</td>\n",
       "      <td>2011-01-04</td>\n",
       "      <td>12월</td>\n",
       "      <td>고영열</td>\n",
       "      <td>http://www.hsdengine.com</td>\n",
       "      <td>경상남도</td>\n",
       "    </tr>\n",
       "  </tbody>\n",
       "</table>\n",
       "</div>"
      ],
      "text/plain": [
       "     회사명    종목코드             업종  \\\n",
       "0  GS글로벌  001250      상품 종합 도매업   \n",
       "1  HSD엔진  082740  일반 목적용 기계 제조업   \n",
       "\n",
       "                                                주요제품         상장일  결산월 대표자명  \\\n",
       "0  수출입업(시멘트,철강금속,전기전자,섬유,기계화학),상품중개,광업,채석업/하수처리 서...  1976-06-26  12월  김태형   \n",
       "1                                     대형선박용엔진,내연발전엔진  2011-01-04  12월  고영열   \n",
       "\n",
       "                       홈페이지     지역  \n",
       "0    http://www.gsgcorp.com  서울특별시  \n",
       "1  http://www.hsdengine.com   경상남도  "
      ]
     },
     "execution_count": 1,
     "metadata": {},
     "output_type": "execute_result"
    }
   ],
   "source": [
    "import urllib.parse\n",
    "import pandas as pd\n",
    "\n",
    "MARKET_CODE_DICT = {\n",
    "    'kospi': 'stockMkt',\n",
    "    'kosdaq': 'kosdaqMkt',\n",
    "    'konex': 'konexMkt'\n",
    "}\n",
    "\n",
    "DOWNLOAD_URL = 'kind.krx.co.kr/corpgeneral/corpList.do'\n",
    "\n",
    "def download_stock_codes(market=None, delisted=False):\n",
    "    params = {'method': 'download'}\n",
    "\n",
    "    if market.lower() in MARKET_CODE_DICT:\n",
    "        params['marketType'] = MARKET_CODE_DICT[market]\n",
    "\n",
    "    if not delisted:\n",
    "        params['searchType'] = 13\n",
    "\n",
    "    params_string = urllib.parse.urlencode(params)\n",
    "    request_url = urllib.parse.urlunsplit(['http', DOWNLOAD_URL, '', params_string, ''])\n",
    "\n",
    "    df = pd.read_html(request_url, header=0)[0]\n",
    "    df.종목코드 = df.종목코드.map('{:06d}'.format)\n",
    "\n",
    "    return df\n",
    "\n",
    "\n",
    "kosdaq_stocks = download_stock_codes('kospi')\n",
    "kosdaq_stocks.head(2)"
   ]
  },
  {
   "cell_type": "code",
   "execution_count": 3,
   "metadata": {},
   "outputs": [
    {
     "name": "stdin",
     "output_type": "stream",
     "text": [
      "Enter a stock_name:  삼성바이오로직스\n"
     ]
    }
   ],
   "source": [
    "stock = input(\"Enter a stock_name: \")"
   ]
  },
  {
   "cell_type": "code",
   "execution_count": 4,
   "metadata": {},
   "outputs": [
    {
     "data": {
      "text/html": [
       "<div>\n",
       "<style scoped>\n",
       "    .dataframe tbody tr th:only-of-type {\n",
       "        vertical-align: middle;\n",
       "    }\n",
       "\n",
       "    .dataframe tbody tr th {\n",
       "        vertical-align: top;\n",
       "    }\n",
       "\n",
       "    .dataframe thead th {\n",
       "        text-align: right;\n",
       "    }\n",
       "</style>\n",
       "<table border=\"1\" class=\"dataframe\">\n",
       "  <thead>\n",
       "    <tr style=\"text-align: right;\">\n",
       "      <th></th>\n",
       "      <th>회사명</th>\n",
       "      <th>종목코드</th>\n",
       "    </tr>\n",
       "  </thead>\n",
       "  <tbody>\n",
       "    <tr>\n",
       "      <th>37</th>\n",
       "      <td>삼성바이오로직스</td>\n",
       "      <td>207940</td>\n",
       "    </tr>\n",
       "  </tbody>\n",
       "</table>\n",
       "</div>"
      ],
      "text/plain": [
       "         회사명    종목코드\n",
       "37  삼성바이오로직스  207940"
      ]
     },
     "execution_count": 4,
     "metadata": {},
     "output_type": "execute_result"
    }
   ],
   "source": [
    "stock_codeDF = kosdaq_stocks[ (kosdaq_stocks.회사명==stock) ][['회사명','종목코드']]\n",
    "stock_codeDF"
   ]
  },
  {
   "cell_type": "code",
   "execution_count": 5,
   "metadata": {},
   "outputs": [
    {
     "name": "stdout",
     "output_type": "stream",
     "text": [
      "삼성바이오로직스\n",
      "207940\n"
     ]
    }
   ],
   "source": [
    "stock_code = stock_codeDF.iloc[0]['종목코드']\n",
    "stock_name = stock_codeDF.iloc[0]['회사명']\n",
    "print(stock_name)\n",
    "print(stock_code)"
   ]
  },
  {
   "cell_type": "code",
   "execution_count": 8,
   "metadata": {},
   "outputs": [
    {
     "name": "stdout",
     "output_type": "stream",
     "text": [
      "Populating the interactive namespace from numpy and matplotlib\n"
     ]
    },
    {
     "data": {
      "image/png": "[encoded data removed]",
      "text/plain": [
       "<Figure size 1080x648 with 1 Axes>"
      ]
     },
     "metadata": {
      "needs_background": "light"
     },
     "output_type": "display_data"
    },
    {
     "name": "stdout",
     "output_type": "stream",
     "text": [
      "chart ok\n"
     ]
    },
    {
     "data": {
      "text/html": [
       "<div>\n",
       "<style scoped>\n",
       "    .dataframe tbody tr th:only-of-type {\n",
       "        vertical-align: middle;\n",
       "    }\n",
       "\n",
       "    .dataframe tbody tr th {\n",
       "        vertical-align: top;\n",
       "    }\n",
       "\n",
       "    .dataframe thead th {\n",
       "        text-align: right;\n",
       "    }\n",
       "</style>\n",
       "<table border=\"1\" class=\"dataframe\">\n",
       "  <thead>\n",
       "    <tr style=\"text-align: right;\">\n",
       "      <th></th>\n",
       "      <th>Open</th>\n",
       "      <th>High</th>\n",
       "      <th>Low</th>\n",
       "      <th>Close</th>\n",
       "      <th>Volume</th>\n",
       "      <th>Change</th>\n",
       "    </tr>\n",
       "    <tr>\n",
       "      <th>Date</th>\n",
       "      <th></th>\n",
       "      <th></th>\n",
       "      <th></th>\n",
       "      <th></th>\n",
       "      <th></th>\n",
       "      <th></th>\n",
       "    </tr>\n",
       "  </thead>\n",
       "  <tbody>\n",
       "    <tr>\n",
       "      <th>2020-03-18</th>\n",
       "      <td>425500</td>\n",
       "      <td>427500</td>\n",
       "      <td>400500</td>\n",
       "      <td>400500</td>\n",
       "      <td>276886</td>\n",
       "      <td>-0.040719</td>\n",
       "    </tr>\n",
       "    <tr>\n",
       "      <th>2020-03-19</th>\n",
       "      <td>410000</td>\n",
       "      <td>416000</td>\n",
       "      <td>352000</td>\n",
       "      <td>366000</td>\n",
       "      <td>470624</td>\n",
       "      <td>-0.086142</td>\n",
       "    </tr>\n",
       "    <tr>\n",
       "      <th>2020-03-20</th>\n",
       "      <td>383500</td>\n",
       "      <td>451000</td>\n",
       "      <td>371500</td>\n",
       "      <td>430000</td>\n",
       "      <td>586738</td>\n",
       "      <td>0.174863</td>\n",
       "    </tr>\n",
       "    <tr>\n",
       "      <th>2020-03-23</th>\n",
       "      <td>406000</td>\n",
       "      <td>454500</td>\n",
       "      <td>405500</td>\n",
       "      <td>436000</td>\n",
       "      <td>589740</td>\n",
       "      <td>0.013953</td>\n",
       "    </tr>\n",
       "    <tr>\n",
       "      <th>2020-03-24</th>\n",
       "      <td>452500</td>\n",
       "      <td>492000</td>\n",
       "      <td>448000</td>\n",
       "      <td>479500</td>\n",
       "      <td>367424</td>\n",
       "      <td>0.099771</td>\n",
       "    </tr>\n",
       "  </tbody>\n",
       "</table>\n",
       "</div>"
      ],
      "text/plain": [
       "              Open    High     Low   Close  Volume    Change\n",
       "Date                                                        \n",
       "2020-03-18  425500  427500  400500  400500  276886 -0.040719\n",
       "2020-03-19  410000  416000  352000  366000  470624 -0.086142\n",
       "2020-03-20  383500  451000  371500  430000  586738  0.174863\n",
       "2020-03-23  406000  454500  405500  436000  589740  0.013953\n",
       "2020-03-24  452500  492000  448000  479500  367424  0.099771"
      ]
     },
     "execution_count": 8,
     "metadata": {},
     "output_type": "execute_result"
    }
   ],
   "source": [
    "# pip install finance-datareader\n",
    "import FinanceDataReader as web\n",
    "from datetime import date, timedelta\n",
    "import matplotlib.pyplot as plt\n",
    "import datetime\n",
    "#font setting for window\n",
    "#font setting for mac (AppleGothic)\n",
    "%matplotlib inline\n",
    "# Control the default size of figures in this Jupyter notebook\n",
    "%pylab inline\n",
    "pylab.rcParams['figure.figsize'] = (15, 9) \n",
    "\n",
    "from matplotlib import font_manager, rc\n",
    "font_name = font_manager.FontProperties(fname=\"c:/Windows/Fonts/malgun.ttf\").get_name()\n",
    "rc('font', family=font_name)\n",
    "\n",
    "end = date.today()\n",
    "#start = date.today() - timedelta(14)\n",
    "start = datetime.datetime(2017,4,1) #date.today() - timedelta(1)\n",
    "#print(yesterday)\n",
    "\n",
    "SEC = web.DataReader(stock_code, start, end)\n",
    "SEC['Close'].plot(style='-')\n",
    "plt.title(stock_name+\" 종가 시세\")\n",
    "plt.show()\n",
    "\n",
    "print(\"chart ok\")\n",
    "SEC.tail()"
   ]
  },
  {
   "cell_type": "code",
   "execution_count": 9,
   "metadata": {},
   "outputs": [],
   "source": [
    "#import numpy as np\n",
    "#SEC =  web.get_data_yahoo(\"005490.KS\", start_past, end)\n",
    "SEC[\"20d\"] = np.round(SEC[\"Close\"].rolling(window = 20, center = False).mean(), 2)\n",
    " \n",
    "#pandas_candlestick_ohlc(SEC.loc[start:end,:], otherseries = \"20d\")"
   ]
  },
  {
   "cell_type": "code",
   "execution_count": 10,
   "metadata": {},
   "outputs": [
    {
     "data": {
      "text/html": [
       "<div>\n",
       "<style scoped>\n",
       "    .dataframe tbody tr th:only-of-type {\n",
       "        vertical-align: middle;\n",
       "    }\n",
       "\n",
       "    .dataframe tbody tr th {\n",
       "        vertical-align: top;\n",
       "    }\n",
       "\n",
       "    .dataframe thead th {\n",
       "        text-align: right;\n",
       "    }\n",
       "</style>\n",
       "<table border=\"1\" class=\"dataframe\">\n",
       "  <thead>\n",
       "    <tr style=\"text-align: right;\">\n",
       "      <th></th>\n",
       "      <th>Open</th>\n",
       "      <th>High</th>\n",
       "      <th>Low</th>\n",
       "      <th>Close</th>\n",
       "      <th>Volume</th>\n",
       "      <th>Change</th>\n",
       "      <th>20d</th>\n",
       "      <th>50d</th>\n",
       "      <th>200d</th>\n",
       "      <th>20d-50d</th>\n",
       "    </tr>\n",
       "    <tr>\n",
       "      <th>Date</th>\n",
       "      <th></th>\n",
       "      <th></th>\n",
       "      <th></th>\n",
       "      <th></th>\n",
       "      <th></th>\n",
       "      <th></th>\n",
       "      <th></th>\n",
       "      <th></th>\n",
       "      <th></th>\n",
       "      <th></th>\n",
       "    </tr>\n",
       "  </thead>\n",
       "  <tbody>\n",
       "    <tr>\n",
       "      <th>2020-03-18</th>\n",
       "      <td>425500</td>\n",
       "      <td>427500</td>\n",
       "      <td>400500</td>\n",
       "      <td>400500</td>\n",
       "      <td>276886</td>\n",
       "      <td>-0.040719</td>\n",
       "      <td>471650.0</td>\n",
       "      <td>475200.0</td>\n",
       "      <td>369085.0</td>\n",
       "      <td>-3550.0</td>\n",
       "    </tr>\n",
       "    <tr>\n",
       "      <th>2020-03-19</th>\n",
       "      <td>410000</td>\n",
       "      <td>416000</td>\n",
       "      <td>352000</td>\n",
       "      <td>366000</td>\n",
       "      <td>470624</td>\n",
       "      <td>-0.086142</td>\n",
       "      <td>465025.0</td>\n",
       "      <td>474140.0</td>\n",
       "      <td>369467.5</td>\n",
       "      <td>-9115.0</td>\n",
       "    </tr>\n",
       "    <tr>\n",
       "      <th>2020-03-20</th>\n",
       "      <td>383500</td>\n",
       "      <td>451000</td>\n",
       "      <td>371500</td>\n",
       "      <td>430000</td>\n",
       "      <td>586738</td>\n",
       "      <td>0.174863</td>\n",
       "      <td>462200.0</td>\n",
       "      <td>474570.0</td>\n",
       "      <td>370200.0</td>\n",
       "      <td>-12370.0</td>\n",
       "    </tr>\n",
       "    <tr>\n",
       "      <th>2020-03-23</th>\n",
       "      <td>406000</td>\n",
       "      <td>454500</td>\n",
       "      <td>405500</td>\n",
       "      <td>436000</td>\n",
       "      <td>589740</td>\n",
       "      <td>0.013953</td>\n",
       "      <td>460950.0</td>\n",
       "      <td>474890.0</td>\n",
       "      <td>370880.0</td>\n",
       "      <td>-13940.0</td>\n",
       "    </tr>\n",
       "    <tr>\n",
       "      <th>2020-03-24</th>\n",
       "      <td>452500</td>\n",
       "      <td>492000</td>\n",
       "      <td>448000</td>\n",
       "      <td>479500</td>\n",
       "      <td>367424</td>\n",
       "      <td>0.099771</td>\n",
       "      <td>460975.0</td>\n",
       "      <td>475750.0</td>\n",
       "      <td>371775.0</td>\n",
       "      <td>-14775.0</td>\n",
       "    </tr>\n",
       "  </tbody>\n",
       "</table>\n",
       "</div>"
      ],
      "text/plain": [
       "              Open    High     Low   Close  Volume    Change       20d  \\\n",
       "Date                                                                     \n",
       "2020-03-18  425500  427500  400500  400500  276886 -0.040719  471650.0   \n",
       "2020-03-19  410000  416000  352000  366000  470624 -0.086142  465025.0   \n",
       "2020-03-20  383500  451000  371500  430000  586738  0.174863  462200.0   \n",
       "2020-03-23  406000  454500  405500  436000  589740  0.013953  460950.0   \n",
       "2020-03-24  452500  492000  448000  479500  367424  0.099771  460975.0   \n",
       "\n",
       "                 50d      200d  20d-50d  \n",
       "Date                                     \n",
       "2020-03-18  475200.0  369085.0  -3550.0  \n",
       "2020-03-19  474140.0  369467.5  -9115.0  \n",
       "2020-03-20  474570.0  370200.0 -12370.0  \n",
       "2020-03-23  474890.0  370880.0 -13940.0  \n",
       "2020-03-24  475750.0  371775.0 -14775.0  "
      ]
     },
     "execution_count": 10,
     "metadata": {},
     "output_type": "execute_result"
    }
   ],
   "source": [
    "SEC[\"50d\"] = np.round(SEC[\"Close\"].rolling(window = 50, center = False).mean(), 2)\n",
    "SEC[\"200d\"] = np.round(SEC[\"Close\"].rolling(window = 200, center = False).mean(), 2)\n",
    "SEC['20d-50d'] = SEC['20d'] - SEC['50d']\n",
    "SEC.tail()"
   ]
  },
  {
   "cell_type": "code",
   "execution_count": 11,
   "metadata": {},
   "outputs": [
    {
     "data": {
      "text/plain": [
       "<matplotlib.lines.Line2D at 0x28bc5f514c8>"
      ]
     },
     "execution_count": 11,
     "metadata": {},
     "output_type": "execute_result"
    },
    {
     "name": "stderr",
     "output_type": "stream",
     "text": [
      "C:\\Users\\kopo\\anaconda3\\lib\\site-packages\\matplotlib\\backends\\backend_agg.py:211: RuntimeWarning: Glyph 8722 missing from current font.\n",
      "  font.set_text(s, 0.0, flags=flags)\n",
      "C:\\Users\\kopo\\anaconda3\\lib\\site-packages\\matplotlib\\backends\\backend_agg.py:180: RuntimeWarning: Glyph 8722 missing from current font.\n",
      "  font.set_text(s, 0, flags=flags)\n"
     ]
    },
    {
     "data": {
      "image/png": "[encoded data removed]",
      "text/plain": [
       "<Figure size 1080x648 with 1 Axes>"
      ]
     },
     "metadata": {
      "needs_background": "light"
     },
     "output_type": "display_data"
    }
   ],
   "source": [
    "\n",
    "# np.where() is a vectorized if-else function, where a condition is checked for each component of a vector, and the first argument passed is used when the condition holds, and the other passed if it does not\n",
    "SEC[\"Regime\"] = np.where(SEC['20d-50d'] > 0, 1, 0)\n",
    "# We have 1's for bullish regimes and 0's for everything else. Below I replace bearish regimes's values with -1, and to maintain the rest of the vector, the second argument is apple[\"Regime\"]\n",
    "SEC[\"Regime\"] = np.where(SEC['20d-50d'] < 0, -1, SEC[\"Regime\"])\n",
    "SEC.loc[start:end,\"Regime\"].plot(ylim = (-2,2)).axhline(y = 0, color = \"black\", lw = 2)"
   ]
  }
 ],
 "metadata": {
  "kernelspec": {
   "display_name": "Python 3",
   "language": "python",
   "name": "python3"
  },
  "language_info": {
   "codemirror_mode": {
    "name": "ipython",
    "version": 3
   },
   "file_extension": ".py",
   "mimetype": "text/x-python",
   "name": "python",
   "nbconvert_exporter": "python",
   "pygments_lexer": "ipython3",
   "version": "3.7.6"
  }
 },
 "nbformat": 4,
 "nbformat_minor": 4
}
